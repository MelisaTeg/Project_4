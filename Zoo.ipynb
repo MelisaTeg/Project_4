{
 "cells": [
  {
   "cell_type": "code",
   "execution_count": 5,
   "id": "687285d9-165e-4376-8cfb-d79aca528513",
   "metadata": {},
   "outputs": [
    {
     "name": "stdout",
     "output_type": "stream",
     "text": [
      "Missing Values:\n",
      " hair          0\n",
      "feathers      0\n",
      "eggs          0\n",
      "milk          0\n",
      "airborne      0\n",
      "aquatic       0\n",
      "predator      0\n",
      "toothed       0\n",
      "backbone      0\n",
      "breathes      0\n",
      "venomous      0\n",
      "fins          0\n",
      "legs          0\n",
      "tail          0\n",
      "domestic      0\n",
      "catsize       0\n",
      "class_type    0\n",
      "dtype: int64\n"
     ]
    }
   ],
   "source": [
    "import pandas as pd\n",
    "import numpy as np\n",
    "import matplotlib.pyplot as plt\n",
    "import seaborn as sns\n",
    "from sklearn.model_selection import train_test_split\n",
    "from sklearn.preprocessing import StandardScaler, LabelEncoder\n",
    "from sklearn.ensemble import RandomForestClassifier\n",
    "\n",
    "\n",
    "# Load datasets\n",
    "zoo_df = pd.read_csv(\"zoo.csv\")\n",
    "class_df = pd.read_csv(\"class.csv\")\n",
    "\n",
    "# Drop 'animal_name' as it's not needed for ML\n",
    "zoo_df.drop(columns=[\"animal_name\"], inplace=True)\n",
    "\n",
    "# Check for missing values\n",
    "print(\"Missing Values:\\n\", zoo_df.isnull().sum())\n",
    "\n",
    "# Encode target variable (class_type)\n",
    "label_encoder = LabelEncoder()\n",
    "zoo_df[\"class_type\"] = label_encoder.fit_transform(zoo_df[\"class_type\"])\n",
    "\n",
    "# Define features (X) and target (y)\n",
    "X = zoo_df.drop(columns=[\"class_type\"])\n",
    "y = zoo_df[\"class_type\"]\n",
    "\n",
    "# Split the data into training and testing sets (80-20 split)\n",
    "X_train, X_test, y_train, y_test = train_test_split(X, y, test_size=0.2, random_state=42, stratify=y)"
   ]
  },
  {
   "cell_type": "code",
   "execution_count": 12,
   "id": "000b3b7d-6418-4351-b131-828283b62607",
   "metadata": {},
   "outputs": [
    {
     "name": "stdout",
     "output_type": "stream",
     "text": [
      "Model Accuracy: 1.00\n",
      "\n",
      "Classification Report:\n",
      "               precision    recall  f1-score   support\n",
      "\n",
      "           0       1.00      1.00      1.00         8\n",
      "           1       1.00      1.00      1.00         4\n",
      "           2       1.00      1.00      1.00         1\n",
      "           3       1.00      1.00      1.00         3\n",
      "           4       1.00      1.00      1.00         1\n",
      "           5       1.00      1.00      1.00         2\n",
      "           6       1.00      1.00      1.00         2\n",
      "\n",
      "    accuracy                           1.00        21\n",
      "   macro avg       1.00      1.00      1.00        21\n",
      "weighted avg       1.00      1.00      1.00        21\n",
      "\n"
     ]
    },
    {
     "data": {
      "image/png": "[encoded data removed]",
      "text/plain": [
       "<Figure size 800x600 with 2 Axes>"
      ]
     },
     "metadata": {},
     "output_type": "display_data"
    }
   ],
   "source": [
    "# Train the model\n",
    "clf = RandomForestClassifier(n_estimators=100, random_state=42)\n",
    "clf.fit(X_train, y_train)\n",
    "\n",
    "# Make predictions\n",
    "y_pred = clf.predict(X_test)\n",
    "\n",
    "# Evaluate accuracy\n",
    "accuracy = accuracy_score(y_test, y_pred)\n",
    "print(f\"Model Accuracy: {accuracy:.2f}\")\n",
    "\n",
    "# Display classification report\n",
    "print(\"\\nClassification Report:\\n\", classification_report(y_test, y_pred))\n",
    "\n",
    "# Confusion Matrix\n",
    "plt.figure(figsize=(8, 6))\n",
    "sns.heatmap(confusion_matrix(y_test, y_pred), annot=True, cmap=\"Blues\", fmt=\"d\", xticklabels=label_encoder.classes_, yticklabels=label_encoder.classes_)\n",
    "plt.xlabel(\"Predicted\")\n",
    "plt.ylabel(\"Actual\")\n",
    "plt.title(\"Confusion Matrix\")\n",
    "plt.show()"
   ]
  },
  {
   "cell_type": "code",
   "execution_count": 9,
   "id": "015c135f-efb7-45b4-bb96-b887eff05ede",
   "metadata": {},
   "outputs": [
    {
     "name": "stdout",
     "output_type": "stream",
     "text": [
      "Best Parameters: {'max_depth': None, 'min_samples_split': 5, 'n_estimators': 50}\n",
      "Optimized Model Accuracy: 1.0\n"
     ]
    }
   ],
   "source": [
    "from sklearn.model_selection import GridSearchCV\n",
    "\n",
    "# Define parameter grid\n",
    "param_grid = {\n",
    "    'n_estimators': [50, 100],\n",
    "    'max_depth': [None, 5, 10, None],\n",
    "    'min_samples_split': [5, 10]\n",
    "}\n",
    "\n",
    "# Grid search\n",
    "grid_search = GridSearchCV(RandomForestClassifier(random_state=42), param_grid, cv=3, n_jobs=-1)\n",
    "grid_search.fit(X_train, y_train)\n",
    "\n",
    "# Best parameters\n",
    "print(\"Best Parameters:\", grid_search.best_params_)\n",
    "\n",
    "# Train best model\n",
    "best_model = grid_search.best_estimator_\n",
    "y_pred_best = best_model.predict(X_test)\n",
    "\n",
    "# Evaluate performance\n",
    "print(\"Optimized Model Accuracy:\", accuracy_score(y_test, y_pred_best))"
   ]
  },
  {
   "cell_type": "code",
   "execution_count": 11,
   "id": "e058af4f-a052-4520-b533-947f95974b56",
   "metadata": {},
   "outputs": [
    {
     "name": "stdout",
     "output_type": "stream",
     "text": [
      "Optimization results saved to 'model_optimization_results.csv'\n"
     ]
    }
   ],
   "source": [
    "# Create DataFrame to document results\n",
    "results_df = pd.DataFrame(grid_search.cv_results_)\n",
    "\n",
    "# Save as CSV for documentation\n",
    "results_df.to_csv(\"model_optimization_results.csv\", index=False)\n",
    "\n",
    "print(\"Optimization results saved to 'model_optimization_results.csv'\")"
   ]
  },
  {
   "cell_type": "code",
   "execution_count": 13,
   "id": "9cedd49c-ed0a-46d7-97b7-08d3899053e4",
   "metadata": {},
   "outputs": [
    {
     "name": "stdout",
     "output_type": "stream",
     "text": [
      "📊 Final Optimized Model Accuracy: 1.00\n",
      "\n",
      "🔹 Final Classification Report:\n",
      "               precision    recall  f1-score   support\n",
      "\n",
      "           0       1.00      1.00      1.00         8\n",
      "           1       1.00      1.00      1.00         4\n",
      "           2       1.00      1.00      1.00         1\n",
      "           3       1.00      1.00      1.00         3\n",
      "           4       1.00      1.00      1.00         1\n",
      "           5       1.00      1.00      1.00         2\n",
      "           6       1.00      1.00      1.00         2\n",
      "\n",
      "    accuracy                           1.00        21\n",
      "   macro avg       1.00      1.00      1.00        21\n",
      "weighted avg       1.00      1.00      1.00        21\n",
      "\n"
     ]
    },
    {
     "data": {
      "image/png": "[encoded data removed]",
      "text/plain": [
       "<Figure size 800x600 with 2 Axes>"
      ]
     },
     "metadata": {},
     "output_type": "display_data"
    }
   ],
   "source": [
    "# Re-evaluate the optimized model\n",
    "final_accuracy = accuracy_score(y_test, y_pred_best)\n",
    "\n",
    "print(f\"📊 Final Optimized Model Accuracy: {final_accuracy:.2f}\")\n",
    "\n",
    "# Display Classification Report\n",
    "print(\"\\n🔹 Final Classification Report:\\n\", classification_report(y_test, y_pred_best))\n",
    "\n",
    "# Display Confusion Matrix\n",
    "plt.figure(figsize=(8, 6))\n",
    "sns.heatmap(confusion_matrix(y_test, y_pred_best), annot=True, cmap=\"Blues\", fmt=\"d\", \n",
    "            xticklabels=label_encoder.classes_, yticklabels=label_encoder.classes_)\n",
    "plt.xlabel(\"Predicted\")\n",
    "plt.ylabel(\"Actual\")\n",
    "plt.title(\"Final Confusion Matrix\")\n",
    "plt.show()"
   ]
  },
  {
   "cell_type": "code",
   "execution_count": 15,
   "id": "1c21f00c-c457-4731-a990-38bf196fdf3c",
   "metadata": {},
   "outputs": [],
   "source": [
    "from sklearn.preprocessing import StandardScaler\n",
    "\n",
    "# Identify numerical columns (assuming all except class_type are numeric)\n",
    "numeric_features = X.select_dtypes(include=['int64', 'float64']).columns\n",
    "\n",
    "# Apply StandardScaler\n",
    "scaler = StandardScaler()\n",
    "X_train[numeric_features] = scaler.fit_transform(X_train[numeric_features])\n",
    "X_test[numeric_features] = scaler.transform(X_test[numeric_features])\n"
   ]
  },
  {
   "cell_type": "code",
   "execution_count": 26,
   "id": "43358dda-742a-4eee-ae8f-bc5897317a0a",
   "metadata": {},
   "outputs": [
    {
     "name": "stdout",
     "output_type": "stream",
     "text": [
      "✅ Table 'zoo_data' has been created successfully in SQLite!\n"
     ]
    }
   ],
   "source": [
    "# Connect to SQLite database\n",
    "conn = sqlite3.connect(\"zoo_database.db\")\n",
    "\n",
    "# Load CSV data into a Pandas DataFrame\n",
    "zoo_df = pd.read_csv(\"zoo.csv\")\n",
    "\n",
    "# Save it into SQLite\n",
    "zoo_df.to_sql(\"zoo_data\", conn, if_exists=\"replace\", index=False)\n",
    "\n",
    "conn.close()\n",
    "\n",
    "print(\"✅ Table 'zoo_data' has been created successfully in SQLite!\")\n"
   ]
  },
  {
   "cell_type": "code",
   "execution_count": 28,
   "id": "c3ad4127-b261-4f68-bf40-6a5c897e4702",
   "metadata": {},
   "outputs": [
    {
     "name": "stdout",
     "output_type": "stream",
     "text": [
      "✅ Data successfully retrieved from SQL!\n"
     ]
    }
   ],
   "source": [
    "conn = sqlite3.connect(\"zoo_database.db\")\n",
    "query = \"SELECT * FROM zoo_data\"\n",
    "zoo_df = pd.read_sql(query, conn)\n",
    "conn.close()\n",
    "\n",
    "print(\"✅ Data successfully retrieved from SQL!\")\n"
   ]
  },
  {
   "cell_type": "code",
   "execution_count": 30,
   "id": "f4161938-84c6-4c00-9e85-d98b4a090ebc",
   "metadata": {},
   "outputs": [],
   "source": [
    "import sqlite3\n",
    "\n",
    "# Connect to SQLite database\n",
    "conn = sqlite3.connect(\"zoo_database.db\")\n",
    "\n",
    "# Read the dataset into a Pandas DataFrame\n",
    "query = \"SELECT * FROM zoo_data\"\n",
    "zoo_df = pd.read_sql(query, conn)\n",
    "\n",
    "conn.close()\n"
   ]
  },
  {
   "cell_type": "code",
   "execution_count": null,
   "id": "026bf815-90d5-42bb-b12b-77bcf0945b3a",
   "metadata": {},
   "outputs": [],
   "source": []
  }
 ],
 "metadata": {
  "kernelspec": {
   "display_name": "Python 3 (ipykernel)",
   "language": "python",
   "name": "python3"
  },
  "language_info": {
   "codemirror_mode": {
    "name": "ipython",
    "version": 3
   },
   "file_extension": ".py",
   "mimetype": "text/x-python",
   "name": "python",
   "nbconvert_exporter": "python",
   "pygments_lexer": "ipython3",
   "version": "3.12.3"
  }
 },
 "nbformat": 4,
 "nbformat_minor": 5
}
